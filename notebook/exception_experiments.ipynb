{
 "cells": [
  {
   "cell_type": "code",
   "execution_count": 1,
   "id": "551eb592",
   "metadata": {},
   "outputs": [
    {
     "name": "stdout",
     "output_type": "stream",
     "text": [
      "all\n"
     ]
    }
   ],
   "source": [
    "print(\"all\")"
   ]
  },
  {
   "cell_type": "markdown",
   "id": "791cebd0",
   "metadata": {},
   "source": [
    "## Exceptions related experiments"
   ]
  },
  {
   "cell_type": "code",
   "execution_count": 9,
   "id": "a9a722fb",
   "metadata": {},
   "outputs": [],
   "source": [
    "import sys\n",
    "import traceback\n",
    "\n"
   ]
  },
  {
   "cell_type": "code",
   "execution_count": 4,
   "id": "ebe9bb17",
   "metadata": {},
   "outputs": [
    {
     "ename": "DocumentPortalException",
     "evalue": "\n        Error occurred in file: [/var/folders/hc/82nwyz_10p5dmtpmfmn34j1h0000gn/T/ipykernel_5416/2752224322.py at line: 21]\n        Message: division by zero\n        Traceback: Traceback (most recent call last):\n  File \"/var/folders/hc/82nwyz_10p5dmtpmfmn34j1h0000gn/T/ipykernel_5416/2752224322.py\", line 21, in <module>\n    a = 1 / 0\n        ~~^~~\nZeroDivisionError: division by zero\n\n        ",
     "output_type": "error",
     "traceback": [
      "\u001b[31m---------------------------------------------------------------------------\u001b[39m",
      "\u001b[31mZeroDivisionError\u001b[39m                         Traceback (most recent call last)",
      "\u001b[36mCell\u001b[39m\u001b[36m \u001b[39m\u001b[32mIn[4]\u001b[39m\u001b[32m, line 21\u001b[39m\n\u001b[32m     19\u001b[39m \u001b[38;5;28;01mtry\u001b[39;00m:\n\u001b[32m     20\u001b[39m     \u001b[38;5;66;03m# Simulating an error\u001b[39;00m\n\u001b[32m---> \u001b[39m\u001b[32m21\u001b[39m     a = \u001b[32;43m1\u001b[39;49m\u001b[43m \u001b[49m\u001b[43m/\u001b[49m\u001b[43m \u001b[49m\u001b[32;43m0\u001b[39;49m\n\u001b[32m     22\u001b[39m     \u001b[38;5;28mprint\u001b[39m(a)\n",
      "\u001b[31mZeroDivisionError\u001b[39m: division by zero",
      "\nDuring handling of the above exception, another exception occurred:\n",
      "\u001b[31mDocumentPortalException\u001b[39m                   Traceback (most recent call last)",
      "\u001b[36mCell\u001b[39m\u001b[36m \u001b[39m\u001b[32mIn[4]\u001b[39m\u001b[32m, line 25\u001b[39m\n\u001b[32m     23\u001b[39m \u001b[38;5;28;01mexcept\u001b[39;00m \u001b[38;5;167;01mException\u001b[39;00m \u001b[38;5;28;01mas\u001b[39;00m e:\n\u001b[32m     24\u001b[39m     app_exec = DocumentPortalException(e, sys)\n\u001b[32m---> \u001b[39m\u001b[32m25\u001b[39m     \u001b[38;5;28;01mraise\u001b[39;00m app_exec\n",
      "\u001b[31mDocumentPortalException\u001b[39m: \n        Error occurred in file: [/var/folders/hc/82nwyz_10p5dmtpmfmn34j1h0000gn/T/ipykernel_5416/2752224322.py at line: 21]\n        Message: division by zero\n        Traceback: Traceback (most recent call last):\n  File \"/var/folders/hc/82nwyz_10p5dmtpmfmn34j1h0000gn/T/ipykernel_5416/2752224322.py\", line 21, in <module>\n    a = 1 / 0\n        ~~^~~\nZeroDivisionError: division by zero\n\n        "
     ]
    }
   ],
   "source": [
    "class DocumentPortalException(Exception):\n",
    "    \"\"\"Custom Exception for Document Portal exceptions.\"\"\"\n",
    "    def __init__(self, error_message:str, error_details:sys):\n",
    "        _,_,exc_tb = error_details.exc_info()\n",
    "        self.file_name = exc_tb.tb_frame.f_code.co_filename\n",
    "        self.lineno = exc_tb.tb_lineno\n",
    "        self.error_message = str(error_message)\n",
    "        self.traceback = ''.join(traceback.format_exception(*error_details.exc_info()))\n",
    "\n",
    "\n",
    "    def __str__(self):\n",
    "        return f\"\"\"\n",
    "        Error occurred in file: [{self.file_name} at line: {self.lineno}]\n",
    "        Message: {self.error_message}\n",
    "        Traceback: {self.traceback}\n",
    "        \"\"\"        \n",
    "\n",
    "if __name__ == \"__main__\":\n",
    "    try:\n",
    "        # Simulating an error\n",
    "        a = 1 / 0\n",
    "        print(a)\n",
    "    except Exception as e:\n",
    "        app_exec = DocumentPortalException(e, sys)\n",
    "        raise app_exec"
   ]
  },
  {
   "cell_type": "markdown",
   "id": "a6c4a646",
   "metadata": {},
   "source": [
    "### Any Exceptions , we can do the following \n",
    "1. Log this info (file, cloud config, command prompt) It will keep the rcord of the error and will not stop the execution \n",
    "2. Raise an exception - This will stop the execution "
   ]
  }
 ],
 "metadata": {
  "kernelspec": {
   "display_name": "Python 3",
   "language": "python",
   "name": "python3"
  },
  "language_info": {
   "codemirror_mode": {
    "name": "ipython",
    "version": 3
   },
   "file_extension": ".py",
   "mimetype": "text/x-python",
   "name": "python",
   "nbconvert_exporter": "python",
   "pygments_lexer": "ipython3",
   "version": "3.13.5"
  }
 },
 "nbformat": 4,
 "nbformat_minor": 5
}
